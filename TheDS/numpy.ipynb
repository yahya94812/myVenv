{
 "cells": [
  {
   "cell_type": "code",
   "execution_count": null,
   "metadata": {},
   "outputs": [],
   "source": [
    "import numpy as np # we can treat lib as a module\n",
    "#ndarray is one of the main class in numpy (np.ndarray(tuple of shape))"
   ]
  },
  {
   "cell_type": "code",
   "execution_count": 2,
   "metadata": {},
   "outputs": [
    {
     "name": "stdout",
     "output_type": "stream",
     "text": [
      "[[2.52118789e-316 0.00000000e+000]\n",
      " [0.00000000e+000 0.00000000e+000]\n",
      " [6.90830505e-310 6.90830398e-310]]\n"
     ]
    }
   ],
   "source": [
    "print(np.ndarray((3,2))) #tuple as a parameter    \n",
    "#creating obj of ndarray directly\n",
    "#not used and not recommended as the np.array and other function can create the obj of ndarray automatically "
   ]
  },
  {
   "cell_type": "code",
   "execution_count": 3,
   "metadata": {},
   "outputs": [
    {
     "name": "stdout",
     "output_type": "stream",
     "text": [
      "[1 2 3 4]\n",
      "[[1 2]\n",
      " [3 4]]\n"
     ]
    }
   ],
   "source": [
    "#np array from a lists\n",
    "arr=np.array([1,2,3,4])\n",
    "# The function np.array() creates and returns an instance of the ndarray class.\n",
    "print(arr)\n",
    "\n",
    "arr_2d=np.array([[1,2],[3,4]])\n",
    "print(arr_2d)"
   ]
  },
  {
   "cell_type": "code",
   "execution_count": 4,
   "metadata": {},
   "outputs": [
    {
     "name": "stdout",
     "output_type": "stream",
     "text": [
      "[[0. 0. 0.]\n",
      " [0. 0. 0.]]\n",
      "\n",
      "[[1. 1.]\n",
      " [1. 1.]\n",
      " [1. 1.]]\n"
     ]
    }
   ],
   "source": [
    "print(np.zeros((2,3)))\n",
    "print(\"\")\n",
    "print(np.ones((3,2)))"
   ]
  },
  {
   "cell_type": "code",
   "execution_count": null,
   "metadata": {},
   "outputs": [
    {
     "name": "stdout",
     "output_type": "stream",
     "text": [
      "[0 2 4 6 8]\n",
      "[0.         0.11111111 0.22222222 0.33333333 0.44444444 0.55555556\n",
      " 0.66666667 0.77777778 0.88888889 1.        ]\n"
     ]
    }
   ],
   "source": [
    "print(np.arange(0,10,2)) # Array with a range of values np.arange(start,stop,step) and [stop] is not included\n",
    "\n",
    "print(np.linspace(0,1,10)) # Array with 10 values linearly spaced between 0 and 1 np.linspace(start,stop,no. of intervals)"
   ]
  },
  {
   "cell_type": "code",
   "execution_count": 6,
   "metadata": {},
   "outputs": [
    {
     "name": "stdout",
     "output_type": "stream",
     "text": [
      "(2, 3)\n",
      "[[1 2]\n",
      " [3 4]\n",
      " [5 6]]\n",
      "(3, 2)\n"
     ]
    }
   ],
   "source": [
    "x_arr=np.array([[1,2,3],[4,5,6]])\n",
    "print(x_arr.shape)\n",
    "y_arr=x_arr.reshape((3,2))\n",
    "print(y_arr)\n",
    "print(y_arr.shape)"
   ]
  },
  {
   "cell_type": "code",
   "execution_count": null,
   "metadata": {},
   "outputs": [
    {
     "name": "stdout",
     "output_type": "stream",
     "text": [
      "[[0.82269199 0.95997005 0.63706202]\n",
      " [0.96028986 0.02992644 0.7838944 ]]\n",
      "[[6 8]\n",
      " [6 3]]\n"
     ]
    }
   ],
   "source": [
    "#here the random is sub module of numpy module\n",
    "rand_arr=np.random.rand(2,3) #it is not taking tuple as parameter\n",
    "print(rand_arr)\n",
    "\n",
    "rand_int_arr=np.random.randint(1,10,(2,2))\n",
    "print(rand_int_arr)"
   ]
  },
  {
   "cell_type": "code",
   "execution_count": null,
   "metadata": {},
   "outputs": [],
   "source": []
  }
 ],
 "metadata": {
  "kernelspec": {
   "display_name": ".venv",
   "language": "python",
   "name": "python3"
  },
  "language_info": {
   "codemirror_mode": {
    "name": "ipython",
    "version": 3
   },
   "file_extension": ".py",
   "mimetype": "text/x-python",
   "name": "python",
   "nbconvert_exporter": "python",
   "pygments_lexer": "ipython3",
   "version": "3.12.3"
  }
 },
 "nbformat": 4,
 "nbformat_minor": 2
}
