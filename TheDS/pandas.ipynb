{
 "cells": [
  {
   "cell_type": "code",
   "execution_count": null,
   "metadata": {},
   "outputs": [],
   "source": [
    "import pandas as pd\n",
    "#DataFrame (pd.DataFrame(dictionary or 2d_list,columns=list(optional))) and Series (pd.Series(list)) are the two main classes in pandas"
   ]
  },
  {
   "cell_type": "code",
   "execution_count": 2,
   "metadata": {},
   "outputs": [
    {
     "name": "stdout",
     "output_type": "stream",
     "text": [
      "      Name  Age         City\n",
      "0    Alice   25     New York\n",
      "1      Bob   30  Los Angeles\n",
      "2  Charlie   35      Chicago\n",
      "      name  age     location\n",
      "0    Alice   25     New York\n",
      "1      Bob   30  Los Angeles\n",
      "2  Charlie   35      Chicago\n"
     ]
    }
   ],
   "source": [
    "data = {\n",
    "    'Name': ['Alice', 'Bob', 'Charlie'],\n",
    "    'Age': [25, 30, 35],\n",
    "    'City': ['New York', 'Los Angeles', 'Chicago']\n",
    "}\n",
    "print(pd.DataFrame(data))\n",
    "\n",
    "data = [\n",
    "    ['Alice', 25, 'New York'],\n",
    "    ['Bob', 30, 'Los Angeles'],\n",
    "    ['Charlie', 35, 'Chicago']]\n",
    "print(pd.DataFrame(data,columns=[\"name\",\"age\",\"location\"]))"
   ]
  },
  {
   "cell_type": "code",
   "execution_count": 3,
   "metadata": {},
   "outputs": [
    {
     "name": "stdout",
     "output_type": "stream",
     "text": [
      "0    1\n",
      "1    2\n",
      "2    3\n",
      "3    4\n",
      "dtype: int64\n",
      "\n",
      "a    1\n",
      "b    2\n",
      "c    3\n",
      "dtype: int64\n",
      "\n",
      "5    1\n",
      "4    2\n",
      "3    3\n",
      "2    4\n",
      "1    5\n",
      "dtype: int64\n"
     ]
    }
   ],
   "source": [
    "print(pd.Series([1,2,3,4]))\n",
    "print()\n",
    "print(pd.Series({\n",
    "    \"a\":1, \"b\":2, \"c\":3\n",
    "}))\n",
    "print()\n",
    "print(pd.Series([1,2,3,4,5],index=[5,4,3,2,1]))"
   ]
  },
  {
   "cell_type": "code",
   "execution_count": 4,
   "metadata": {},
   "outputs": [],
   "source": [
    "import numpy as np\n",
    "import string\n",
    "arr=np.random.randint(0,26,(100,26))\n",
    "df=pd.DataFrame(arr, columns=list(string.ascii_lowercase))\n",
    "\n",
    "df.to_csv(\"random_data.csv\", index=False)\n",
    "df.to_excel(\"random_data.xlsx\",index=False)"
   ]
  },
  {
   "cell_type": "code",
   "execution_count": 5,
   "metadata": {},
   "outputs": [],
   "source": [
    "new_df=pd.read_csv(\"random_data.csv\")\n",
    "new_df_from_xlsx=pd.read_excel(\"random_data.xlsx\")\n",
    "# print(new_df)\n",
    "# print(new_df_from_xlsx)"
   ]
  },
  {
   "cell_type": "code",
   "execution_count": 6,
   "metadata": {},
   "outputs": [
    {
     "name": "stdout",
     "output_type": "stream",
     "text": [
      "7\n"
     ]
    }
   ],
   "source": [
    "li=[\n",
    "   [1,2,3,4,5],[6,7,8,9,10],[11,12,13,14,15]\n",
    "]\n",
    "print(li[1][1])"
   ]
  },
  {
   "cell_type": "code",
   "execution_count": 7,
   "metadata": {},
   "outputs": [
    {
     "name": "stdout",
     "output_type": "stream",
     "text": [
      "      Name  Age         City\n",
      "0    Alice   25     New York\n",
      "1      Bob   30  Los Angeles\n",
      "2  Charlie   35      Chicago\n",
      "      Name  Age         City\n",
      "0    Alice   25     New York\n",
      "1      Bob   30  Los Angeles\n",
      "2  Charlie   35      Chicago\n",
      "0      Alice\n",
      "1        Bob\n",
      "2    Charlie\n",
      "Name: Name, dtype: object\n",
      "      Name  Age\n",
      "0    Alice   25\n",
      "1      Bob   30\n",
      "2  Charlie   35\n",
      "      Name  Age         City  sample_val\n",
      "0    Alice   25     New York           1\n",
      "1      Bob   30  Los Angeles           2\n",
      "2  Charlie   35      Chicago           3\n",
      "\n",
      "      Name  Age         City  sample_val\n",
      "0    Alice   25     New York           1\n",
      "1      Bob   30  Los Angeles           2\n",
      "2  Charlie   35      Chicago           3\n"
     ]
    }
   ],
   "source": [
    "df = pd.DataFrame({\n",
    "    'Name': ['Alice', 'Bob', 'Charlie'],\n",
    "    'Age': [25, 30, 35],\n",
    "    'City': ['New York', 'Los Angeles', 'Chicago']\n",
    "})\n",
    "print(df.head(3))\n",
    "print(df.tail(3))\n",
    "\n",
    "x=df['Name']\n",
    "y=df[[\"Name\",\"Age\"]]\n",
    "\n",
    "print(df[\"Name\"])#it returns the pandas series\n",
    "print(df[['Name','Age']])#it returns the pandas DataFrame therefore 2d list\n",
    "\n",
    "df['sample_val']=[1,2,3]\n",
    "print(df)\n",
    "df.drop(columns=['sample_val'])\n",
    "\n",
    "print()\n",
    "print(df)"
   ]
  },
  {
   "cell_type": "code",
   "execution_count": 8,
   "metadata": {},
   "outputs": [
    {
     "name": "stdout",
     "output_type": "stream",
     "text": [
      "      Name   Age         City\n",
      "0    Alice  25.0     New York\n",
      "1      Bob  30.0  Los Angeles\n",
      "2  Charlie  35.0      Unknown\n",
      "      Name   Age         City\n",
      "0    Alice  25.0     New York\n",
      "1      Bob  30.0  Los Angeles\n",
      "2  Charlie  35.0      Unknown\n"
     ]
    }
   ],
   "source": [
    "#Handling missing data\n",
    "import pandas as pd\n",
    "import numpy as np\n",
    "\n",
    "df = pd.DataFrame({\n",
    "    'Name': ['Alice', 'Bob', 'Charlie'],\n",
    "    'Age': [25, np.nan, 35],#[nan] means not a number\n",
    "    'City': ['New York', 'Los Angeles', np.nan]\n",
    "})\n",
    "\n",
    "# Fill missing values\n",
    "df['Age'] = df['Age'].fillna(df['Age'].mean())#[na] means not avilable\n",
    "df['City'] = df['City'].fillna('Unknown')\n",
    "print(df)\n",
    "\n",
    "# Drop rows with missing values\n",
    "df = df.dropna()\n",
    "print(df)"
   ]
  }
 ],
 "metadata": {
  "kernelspec": {
   "display_name": ".venv",
   "language": "python",
   "name": "python3"
  },
  "language_info": {
   "codemirror_mode": {
    "name": "ipython",
    "version": 3
   },
   "file_extension": ".py",
   "mimetype": "text/x-python",
   "name": "python",
   "nbconvert_exporter": "python",
   "pygments_lexer": "ipython3",
   "version": "3.12.3"
  }
 },
 "nbformat": 4,
 "nbformat_minor": 2
}
